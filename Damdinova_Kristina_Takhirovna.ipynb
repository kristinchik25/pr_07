{
  "cells": [
    {
      "cell_type": "markdown",
      "id": "413d2ce1",
      "metadata": {},
      "source": [
        "# Практическая работа 7"
      ]
    },
    {
      "cell_type": "markdown",
      "id": "ddace0a2",
      "metadata": {},
      "source": [
        "Подготовка к выполнению индивидуальных заданий"
      ]
    },
    {
      "cell_type": "code",
      "execution_count": 1,
      "id": "1eeeeaea-e7d4-4756-9af9-a22178bd25bc",
      "metadata": {
        "colab": {
          "base_uri": "https://localhost:8080/"
        },
        "id": "1eeeeaea-e7d4-4756-9af9-a22178bd25bc",
        "outputId": "b1d45ff3-b2fc-4a58-f2fd-f413c3e1bf35"
      },
      "outputs": [
        {
          "name": "stdout",
          "output_type": "stream",
          "text": [
            "Requirement already satisfied: psycopg2 in c:\\users\\damdi\\appdata\\local\\programs\\python\\python312\\lib\\site-packages (2.9.10)\n",
            "Note: you may need to restart the kernel to use updated packages.\n"
          ]
        },
        {
          "name": "stderr",
          "output_type": "stream",
          "text": [
            "\n",
            "[notice] A new release of pip is available: 23.2.1 -> 25.1.1\n",
            "[notice] To update, run: python.exe -m pip install --upgrade pip\n"
          ]
        }
      ],
      "source": [
        "%pip install psycopg2"
      ]
    },
    {
      "cell_type": "code",
      "execution_count": 2,
      "id": "1661b68c-5297-46fe-901c-d61687d65893",
      "metadata": {
        "id": "1661b68c-5297-46fe-901c-d61687d65893"
      },
      "outputs": [],
      "source": [
        "import psycopg2\n",
        "from psycopg2 import Error"
      ]
    },
    {
      "cell_type": "code",
      "execution_count": 3,
      "id": "7397aa16-2f70-4096-b1bb-939cb0a4da4e",
      "metadata": {
        "id": "7397aa16-2f70-4096-b1bb-939cb0a4da4e"
      },
      "outputs": [
        {
          "name": "stdout",
          "output_type": "stream",
          "text": [
            "Информация о сервере PostgreSQL\n",
            "{'user': 'postgres', 'channel_binding': 'prefer', 'dbname': 'medical_db', 'host': 'localhost', 'port': '5432', 'options': '', 'sslmode': 'prefer', 'sslcompression': '0', 'sslcertmode': 'allow', 'sslsni': '1', 'ssl_min_protocol_version': 'TLSv1.2', 'gssencmode': 'disable', 'krbsrvname': 'postgres', 'gssdelegation': '0', 'target_session_attrs': 'any', 'load_balance_hosts': 'disable'} \n",
            "\n",
            "Вы подключены к -  ('PostgreSQL 16.8, compiled by Visual C++ build 1942, 64-bit',) \n",
            "\n",
            "Соединение с PostgreSQL закрыто\n"
          ]
        }
      ],
      "source": [
        "try:\n",
        "    # Подключение к существующей базе данных\n",
        "    connection = psycopg2.connect(user=\"postgres\",\n",
        "                                  password=\"1\",\n",
        "                                  host=\"localhost\",\n",
        "                                  port=\"5432\",\n",
        "                                  database=\"medical_db\")\n",
        "\n",
        "    # Создание курсора для выполнения операций с базой данных\n",
        "    cursor = connection.cursor()\n",
        "    # Вывод информации о сервере PostgreSQL\n",
        "    print(\"Информация о сервере PostgreSQL\")\n",
        "    print(connection.get_dsn_parameters(), \"\\n\")\n",
        "    # Выполнение SQL-запроса\n",
        "    cursor.execute(\"SELECT version();\")\n",
        "    # Получение результата\n",
        "    record = cursor.fetchone()\n",
        "    print(\"Вы подключены к - \", record, \"\\n\")\n",
        "\n",
        "except (Exception, Error) as error:\n",
        "    print(\"Ошибка при подключении к PostgreSQL:\", error)\n",
        "finally:\n",
        "    if (connection):\n",
        "        cursor.close()\n",
        "        connection.close()\n",
        "        print(\"Соединение с PostgreSQL закрыто\")"
      ]
    },
    {
      "cell_type": "markdown",
      "id": "aM9k6GYjbC3s",
      "metadata": {
        "id": "aM9k6GYjbC3s"
      },
      "source": [
        "1. Создайте таблицу \"Hospital\" с полями \"ID\", \"NAME\", \"TYPE\"."
      ]
    },
    {
      "cell_type": "code",
      "execution_count": 4,
      "id": "dhpj1rskX46a",
      "metadata": {
        "id": "dhpj1rskX46a"
      },
      "outputs": [
        {
          "name": "stdout",
          "output_type": "stream",
          "text": [
            "Соединение с PostgreSQL закрыто\n",
            "Таблица 'Hospital' успешно создана\n",
            "Ошибка при подключении или работе с PostgreSQL: ОШИБКА:  столбец \"private\" не существует\n",
            "LINE 4:     (1, 'Mayo Clinic', private),\n",
            "                               ^\n",
            "\n",
            "Соединение с PostgreSQL закрыто\n"
          ]
        }
      ],
      "source": [
        "import psycopg2\n",
        "\n",
        "def get_connection(database_name):\n",
        "    # Функция для получения подключения к базе данных\n",
        "    connection = psycopg2.connect(user=\"postgres\",\n",
        "                                  password=\"1\",\n",
        "                                  host=\"localhost\",\n",
        "                                  port=\"5432\",\n",
        "                                  database=database_name)\n",
        "    return connection\n",
        "\n",
        "def close_connection(connection):\n",
        "    # Функция для закрытия подключения к базе данных\n",
        "    if connection:\n",
        "        connection.close()\n",
        "        print(\"Соединение с PostgreSQL закрыто\")\n",
        "\n",
        "try:\n",
        "    # Создание подключения к базе данных sql_case_bi_mgpu (база, с которой можно создавать другие базы)\n",
        "    connection = psycopg2.connect(user=\"postgres\",\n",
        "                                  password=\"1\",\n",
        "                                  host=\"localhost\",\n",
        "                                  port=\"5432\",\n",
        "                                  database=\"medical_db\")\n",
        "    connection.autocommit = True  # Отключаем транзакцию для команды CREATE DATABASE\n",
        "    cursor = connection.cursor()\n",
        "\n",
        "    # Создание базы данных\n",
        "    #cursor.execute(\"CREATE DATABASE medical_db;\")\n",
        "    #print(\"База данных 'medical_db' успешно создана\")\n",
        "\n",
        "    # Закрытие текущего соединения для подключения к новой базе данных\n",
        "    close_connection(connection)\n",
        "\n",
        "    # Подключение к новой базе данных 'medical_db'\n",
        "    connection = get_connection(\"medical_db\")\n",
        "    cursor = connection.cursor()\n",
        "\n",
        "    # Создание таблицы Hospital\n",
        "    create_table_query = '''\n",
        "    CREATE TABLE Hospital (\n",
        "        Hospital_Id serial NOT NULL PRIMARY KEY,\n",
        "        Hospital_Name VARCHAR (100) NOT NULL,\n",
        "        Hospital_Type VARCHAR (10)\n",
        "    );\n",
        "    '''\n",
        "    cursor.execute(create_table_query)\n",
        "    connection.commit()\n",
        "    print(\"Таблица 'Hospital' успешно создана\")\n",
        "\n",
        "    # Вставка данных в таблицу Hospital\n",
        "    insert_query = '''\n",
        "    INSERT INTO Hospital (Hospital_Id, Hospital_Name, Hospital_Type)\n",
        "    VALUES\n",
        "    (1, 'Mayo Clinic', private),\n",
        "    (2, 'Cleveland Clinic', state),\n",
        "    (3, 'Johns Hopkins', state),\n",
        "    (4, 'UCLA Medical Center', state);\n",
        "    '''\n",
        "    cursor.execute(insert_query)\n",
        "    connection.commit()\n",
        "    print(\"Данные успешно вставлены в таблицу 'Hospital'\")\n",
        "\n",
        "except (Exception, psycopg2.Error) as error:\n",
        "    print(\"Ошибка при подключении или работе с PostgreSQL:\", error)\n",
        "\n",
        "finally:\n",
        "    # Закрытие подключения к базе данных\n",
        "    if connection:\n",
        "        close_connection(connection)"
      ]
    },
    {
      "cell_type": "markdown",
      "id": "15047019",
      "metadata": {},
      "source": [
        "Дополнительно загрузим данные в таблицу Doctor для выполнения последующих заданий "
      ]
    },
    {
      "cell_type": "code",
      "execution_count": 7,
      "id": "ah6fJSotbYrw",
      "metadata": {
        "id": "ah6fJSotbYrw"
      },
      "outputs": [
        {
          "ename": "SyntaxError",
          "evalue": "invalid syntax (595646471.py, line 1)",
          "output_type": "error",
          "traceback": [
            "  \u001b[36mCell\u001b[39m\u001b[36m \u001b[39m\u001b[32mIn[7]\u001b[39m\u001b[32m, line 1\u001b[39m\n\u001b[31m    \u001b[39m\u001b[31mCREATE TABLE Doctor (\u001b[39m\n           ^\n\u001b[31mSyntaxError\u001b[39m\u001b[31m:\u001b[39m invalid syntax\n"
          ]
        }
      ],
      "source": [
        "CREATE TABLE Doctor (\n",
        "    Doctor_Id serial NOT NULL PRIMARY KEY,\n",
        "    Doctor_Name VARCHAR (100) NOT NULL,\n",
        "    Hospital_Id serial NOT NULL,\n",
        "    Joining_Date DATE NOT NULL,\n",
        "    Speciality VARCHAR (100) NOT NULL,\n",
        "    Salary INTEGER NOT NULL,\n",
        "    Experience SMALLINT\n",
        ");\n",
        "\n",
        "-- Вставка данных о докторах\n",
        "INSERT INTO Doctor (Doctor_Id, Doctor_Name, Hospital_Id, Joining_Date, Speciality, Salary, Experience)\n",
        "VALUES\n",
        "('101', 'David', '1', '2005-02-10', 'Pediatric', 40000, NULL),\n",
        "('102', 'Michael', '1', '2018-07-23', 'Oncologist', 20000, NULL),\n",
        "('103', 'Susan', '2', '2016-05-19', 'Garnacologist', 25000, NULL),\n",
        "('104', 'Robert', '2', '2017-12-28', 'Pediatric', 28000, NULL),\n",
        "('105', 'Linda', '3', '2004-06-04', 'Garnacologist', 42000, NULL),\n",
        "('106', 'William', '3', '2012-09-11', 'Dermatologist', 30000, NULL),\n",
        "('107', 'Richard', '4', '2014-08-21', 'Garnacologist', 32000, NULL),\n",
        "('108', 'Karen', '4', '2011-10-17', 'Radiologist', 30000, NULL),\n",
        "('109', 'James', '1', '2022-01-15', 'Cardiologist', 45000, 5),\n",
        "('110', 'Emily', '1', '2023-04-10', 'Orthopedic Surgeon', 50000, 3),\n",
        "('111', 'Olivia', '2', '2021-09-05', 'Neurologist', 42000, 4),\n",
        "('112', 'John', '2', '2024-02-18', 'Surgeon', 60000, 2),\n",
        "('113', 'Sophia', '3', '2022-07-30', 'Urologist', 38000, 6),\n",
        "('114', 'Daniel', '3', '2025-03-22', 'Pulmonologist', 47000, 1),\n",
        "('115', 'Isabella', '4', '2023-11-01', 'Pediatrician', 41000, 3),\n",
        "('116', 'Liam', '4', '2022-05-25', 'Dermatologist', 35000, 4),\n",
        "('117', 'Mia', '1', '2024-06-17', 'Gastroenterologist', 53000, 2),\n",
        "('118', 'Lucas', '2', '2023-01-12', 'Anesthesiologist', 46000, 3);"
      ]
    },
    {
      "cell_type": "markdown",
      "id": "_WB319WJOPzl",
      "metadata": {
        "id": "_WB319WJOPzl"
      },
      "source": [
        "2.\tПолучите информацию о докторе с ID=109"
      ]
    },
    {
      "cell_type": "code",
      "execution_count": 5,
      "id": "TmuMx8JIgIus",
      "metadata": {
        "id": "TmuMx8JIgIus"
      },
      "outputs": [
        {
          "name": "stdout",
          "output_type": "stream",
          "text": [
            "Печать записи о докторе:\n",
            "Doctor Id: 109\n",
            "Doctor Name: James\n",
            "Hospital Id: 1\n",
            "Joining Date: 2022-01-15\n",
            "Specialty: Cardiologist\n",
            "Salary: 45000\n",
            "Experience: 5\n",
            "Соединение с PostgreSQL закрыто\n"
          ]
        }
      ],
      "source": [
        "def get_connection(database_name):\n",
        "    # Функция для получения подключения к базе данных\n",
        "    connection = psycopg2.connect(user=\"postgres\",\n",
        "                                  password=\"1\",\n",
        "                                  host=\"localhost\",\n",
        "                                  port=\"5432\",\n",
        "                                  database=database_name)\n",
        "    return connection\n",
        "\n",
        "def close_connection(connection):\n",
        "    # Функция для закрытия подключения к базе данных\n",
        "    if connection:\n",
        "        connection.close()\n",
        "        print(\"Соединение с PostgreSQL закрыто\")\n",
        "\n",
        "\n",
        "\n",
        "def get_doctor_detail(doctor_id):\n",
        "    try:\n",
        "        # Подключаемся к базе данных medical_db\n",
        "        database_name = 'medical_db'\n",
        "        connection = get_connection(database_name)\n",
        "        cursor = connection.cursor()\n",
        "\n",
        "        # Запрос для получения информации о докторе\n",
        "        select_query = \"\"\"SELECT * FROM Doctor WHERE Doctor_Id = %s\"\"\"\n",
        "        cursor.execute(select_query, (doctor_id,))\n",
        "        records = cursor.fetchall()\n",
        "\n",
        "        # Вывод информации о докторе\n",
        "        print(\"Печать записи о докторе:\")\n",
        "        for row in records:\n",
        "            print(\"Doctor Id:\", row[0])\n",
        "            print(\"Doctor Name:\", row[1])\n",
        "            print(\"Hospital Id:\", row[2])\n",
        "            print(\"Joining Date:\", row[3])\n",
        "            print(\"Specialty:\", row[4])\n",
        "            print(\"Salary:\", row[5])\n",
        "            print(\"Experience:\", row[6])\n",
        "\n",
        "        # Закрытие подключения\n",
        "        close_connection(connection)\n",
        "    except (Exception, psycopg2.Error) as error:\n",
        "        print(\"Ошибка при получении данных:\", error)\n",
        "\n",
        "get_doctor_detail(109)"
      ]
    },
    {
      "cell_type": "markdown",
      "id": "6mzdPYvTmods",
      "metadata": {
        "id": "6mzdPYvTmods"
      },
      "source": [
        "3.\tОбновите стаж врача с ID=110 на 2 года."
      ]
    },
    {
      "cell_type": "code",
      "execution_count": 6,
      "id": "LGGQFJdKsRfM",
      "metadata": {
        "id": "LGGQFJdKsRfM"
      },
      "outputs": [
        {
          "name": "stdout",
          "output_type": "stream",
          "text": [
            "Задание: Обновить стаж врачу с ID 110 на 2 года\n",
            "\n",
            "Стаж врача с ID 110 успешно обновлен на 2 года\n",
            "\n",
            "Информация о докторе после обновления:\n",
            "Doctor Id: 110\n",
            "Doctor Name: Emily\n",
            "Hospital Id: 1\n",
            "Joining Date: 2023-04-10\n",
            "Speciality: Orthopedic Surgeon\n",
            "Salary: 50000\n",
            "Experience: 2\n",
            "Соединение с PostgreSQL закрыто\n"
          ]
        }
      ],
      "source": [
        "import psycopg2\n",
        "\n",
        "def get_connection(database_name):\n",
        "    # Функция для получения подключения к базе данных\n",
        "    connection = psycopg2.connect(user=\"postgres\",\n",
        "                                  password=\"1\",\n",
        "                                  host=\"localhost\",\n",
        "                                  port=\"5432\",\n",
        "                                  database=database_name)\n",
        "    return connection\n",
        "\n",
        "def close_connection(connection):\n",
        "    # Функция для закрытия подключения к базе данных\n",
        "    if connection:\n",
        "        connection.close()\n",
        "        print(\"Соединение с PostgreSQL закрыто\")\n",
        "\n",
        "def update_experience(doctor_id, new_experience):\n",
        "    try:\n",
        "        # Подключаемся к базе данных\n",
        "        database_name = 'medical_db'\n",
        "        connection = get_connection(database_name)\n",
        "        cursor = connection.cursor()\n",
        "\n",
        "        # Обновляем стаж доктора с указанным ID\n",
        "        update_query = \"\"\"UPDATE Doctor SET Experience = %s WHERE Doctor_Id = %s\"\"\"\n",
        "        cursor.execute(update_query, (new_experience, doctor_id))\n",
        "        connection.commit()\n",
        "\n",
        "        print(f\"Стаж врача с ID {doctor_id} успешно обновлен на {new_experience} года\")\n",
        "\n",
        "        # Печать данных о докторе после обновления\n",
        "        select_query = \"\"\"SELECT Doctor_Id, Doctor_Name, Hospital_Id, Joining_Date, Speciality, Salary, Experience\n",
        "                          FROM Doctor WHERE Doctor_Id = %s\"\"\"\n",
        "        cursor.execute(select_query, (doctor_id,))\n",
        "        doctor_record = cursor.fetchone()\n",
        "\n",
        "        if doctor_record:\n",
        "            print(\"\\nИнформация о докторе после обновления:\")\n",
        "            print(f\"Doctor Id: {doctor_record[0]}\")\n",
        "            print(f\"Doctor Name: {doctor_record[1]}\")\n",
        "            print(f\"Hospital Id: {doctor_record[2]}\")\n",
        "            print(f\"Joining Date: {doctor_record[3]}\")\n",
        "            print(f\"Speciality: {doctor_record[4]}\")\n",
        "            print(f\"Salary: {doctor_record[5]}\")\n",
        "            print(f\"Experience: {doctor_record[6]}\")\n",
        "\n",
        "        # Закрытие подключения\n",
        "        close_connection(connection)\n",
        "\n",
        "    except (Exception, psycopg2.Error) as error:\n",
        "        print(\"Ошибка при обновлении данных:\", error)\n",
        "\n",
        "# Обновим стаж врача с ID 101 на 3 года\n",
        "print(\"Задание: Обновить стаж врачу с ID 110 на 2 года\\n\")\n",
        "update_experience(110, 2)"
      ]
    },
    {
      "cell_type": "markdown",
      "id": "f2460b6a",
      "metadata": {},
      "source": [
        "4.\tУдалите запись из таблицы \"Doctor\" с ID=115."
      ]
    },
    {
      "cell_type": "code",
      "execution_count": 7,
      "id": "91bd400a",
      "metadata": {},
      "outputs": [
        {
          "name": "stdout",
          "output_type": "stream",
          "text": [
            "Задание: Удалить запись врача с ID 115\n",
            "\n",
            "Запись врача с ID 115 успешно удалена\n",
            "Соединение с PostgreSQL закрыто\n"
          ]
        }
      ],
      "source": [
        "import psycopg2\n",
        "\n",
        "def get_connection(database_name):\n",
        "    # Функция для получения подключения к базе данных\n",
        "    connection = psycopg2.connect(user=\"postgres\",\n",
        "                                  password=\"1\",\n",
        "                                  host=\"localhost\",\n",
        "                                  port=\"5432\",\n",
        "                                  database=database_name)\n",
        "    return connection\n",
        "\n",
        "def close_connection(connection):\n",
        "    # Функция для закрытия подключения к базе данных\n",
        "    if connection:\n",
        "        connection.close()\n",
        "        print(\"Соединение с PostgreSQL закрыто\")\n",
        "\n",
        "def delete_doctor(doctor_id):\n",
        "    try:\n",
        "        # Подключаемся к базе данных\n",
        "        database_name = 'medical_db'\n",
        "        connection = get_connection(database_name)\n",
        "        cursor = connection.cursor()\n",
        "\n",
        "        # Удаляем запись доктора с указанным ID\n",
        "        delete_query = \"\"\"DELETE FROM Doctor WHERE Doctor_Id = %s\"\"\"\n",
        "        cursor.execute(delete_query, (doctor_id,))\n",
        "        connection.commit()\n",
        "\n",
        "        # Проверяем, была ли запись удалена\n",
        "        if cursor.rowcount > 0:\n",
        "            print(f\"Запись врача с ID {doctor_id} успешно удалена\")\n",
        "        else:\n",
        "            print(f\"Запись врача с ID {doctor_id} не найдена\")\n",
        "\n",
        "        # Закрытие подключения\n",
        "        close_connection(connection)\n",
        "\n",
        "    except (Exception, psycopg2.Error) as error:\n",
        "        print(\"Ошибка при удалении данных:\", error)\n",
        "\n",
        "# Удалим запись врача с ID 115\n",
        "print(\"Задание: Удалить запись врача с ID 115\\n\")\n",
        "delete_doctor(115)"
      ]
    },
    {
      "cell_type": "markdown",
      "id": "dc7d51b8",
      "metadata": {},
      "source": [
        "Задания 5. Постройте график для анализа количества врачей по специальности."
      ]
    },
    {
      "cell_type": "code",
      "execution_count": 8,
      "id": "48234545",
      "metadata": {},
      "outputs": [
        {
          "name": "stdout",
          "output_type": "stream",
          "text": [
            "Requirement already satisfied: pandas in c:\\users\\damdi\\appdata\\local\\programs\\python\\python312\\lib\\site-packages (2.2.3)\n",
            "Requirement already satisfied: numpy>=1.26.0 in c:\\users\\damdi\\appdata\\local\\programs\\python\\python312\\lib\\site-packages (from pandas) (2.2.5)\n",
            "Requirement already satisfied: python-dateutil>=2.8.2 in c:\\users\\damdi\\appdata\\roaming\\python\\python312\\site-packages (from pandas) (2.9.0.post0)\n",
            "Requirement already satisfied: pytz>=2020.1 in c:\\users\\damdi\\appdata\\local\\programs\\python\\python312\\lib\\site-packages (from pandas) (2025.2)\n",
            "Requirement already satisfied: tzdata>=2022.7 in c:\\users\\damdi\\appdata\\local\\programs\\python\\python312\\lib\\site-packages (from pandas) (2025.2)\n",
            "Requirement already satisfied: six>=1.5 in c:\\users\\damdi\\appdata\\roaming\\python\\python312\\site-packages (from python-dateutil>=2.8.2->pandas) (1.17.0)\n",
            "Note: you may need to restart the kernel to use updated packages.\n"
          ]
        },
        {
          "name": "stderr",
          "output_type": "stream",
          "text": [
            "\n",
            "[notice] A new release of pip is available: 23.2.1 -> 25.1.1\n",
            "[notice] To update, run: python.exe -m pip install --upgrade pip\n"
          ]
        }
      ],
      "source": [
        "%pip install pandas"
      ]
    },
    {
      "cell_type": "code",
      "execution_count": 10,
      "id": "e9958059",
      "metadata": {},
      "outputs": [
        {
          "name": "stdout",
          "output_type": "stream",
          "text": [
            "Requirement already satisfied: matplotlib in c:\\users\\damdi\\appdata\\local\\programs\\python\\python312\\lib\\site-packages (3.10.1)\n",
            "Requirement already satisfied: contourpy>=1.0.1 in c:\\users\\damdi\\appdata\\local\\programs\\python\\python312\\lib\\site-packages (from matplotlib) (1.3.2)\n",
            "Requirement already satisfied: cycler>=0.10 in c:\\users\\damdi\\appdata\\local\\programs\\python\\python312\\lib\\site-packages (from matplotlib) (0.12.1)\n",
            "Requirement already satisfied: fonttools>=4.22.0 in c:\\users\\damdi\\appdata\\local\\programs\\python\\python312\\lib\\site-packages (from matplotlib) (4.57.0)\n",
            "Requirement already satisfied: kiwisolver>=1.3.1 in c:\\users\\damdi\\appdata\\local\\programs\\python\\python312\\lib\\site-packages (from matplotlib) (1.4.8)\n",
            "Requirement already satisfied: numpy>=1.23 in c:\\users\\damdi\\appdata\\local\\programs\\python\\python312\\lib\\site-packages (from matplotlib) (2.2.5)\n",
            "Requirement already satisfied: packaging>=20.0 in c:\\users\\damdi\\appdata\\roaming\\python\\python312\\site-packages (from matplotlib) (24.2)\n",
            "Requirement already satisfied: pillow>=8 in c:\\users\\damdi\\appdata\\local\\programs\\python\\python312\\lib\\site-packages (from matplotlib) (11.2.1)\n",
            "Requirement already satisfied: pyparsing>=2.3.1 in c:\\users\\damdi\\appdata\\local\\programs\\python\\python312\\lib\\site-packages (from matplotlib) (3.2.3)\n",
            "Requirement already satisfied: python-dateutil>=2.7 in c:\\users\\damdi\\appdata\\roaming\\python\\python312\\site-packages (from matplotlib) (2.9.0.post0)\n",
            "Requirement already satisfied: six>=1.5 in c:\\users\\damdi\\appdata\\roaming\\python\\python312\\site-packages (from python-dateutil>=2.7->matplotlib) (1.17.0)\n",
            "Note: you may need to restart the kernel to use updated packages.\n"
          ]
        },
        {
          "name": "stderr",
          "output_type": "stream",
          "text": [
            "\n",
            "[notice] A new release of pip is available: 23.2.1 -> 25.1.1\n",
            "[notice] To update, run: python.exe -m pip install --upgrade pip\n"
          ]
        }
      ],
      "source": [
        "%pip install matplotlib"
      ]
    },
    {
      "cell_type": "code",
      "execution_count": 14,
      "id": "c22d4df5",
      "metadata": {},
      "outputs": [
        {
          "name": "stderr",
          "output_type": "stream",
          "text": [
            "C:\\Users\\damdi\\AppData\\Local\\Temp\\ipykernel_19940\\1494749935.py:19: UserWarning: pandas only supports SQLAlchemy connectable (engine/connection) or database string URI or sqlite3 DBAPI2 connection. Other DBAPI2 objects are not tested. Please consider using SQLAlchemy.\n",
            "  df = pd.read_sql(query, conn)\n"
          ]
        },
        {
          "data": {
            "image/png": "[encoded data removed]",
            "text/plain": [
              "<Figure size 1200x600 with 1 Axes>"
            ]
          },
          "metadata": {},
          "output_type": "display_data"
        }
      ],
      "source": [
        "import psycopg2\n",
        "import pandas as pd\n",
        "import matplotlib.pyplot as plt\n",
        "\n",
        "conn = psycopg2.connect(\n",
        "    host=\"localhost\",\n",
        "    database=\"medical_db\",\n",
        "    user=\"postgres\",\n",
        "    password=\"1\",\n",
        "    port=\"5432\"\n",
        ")\n",
        "\n",
        "query = \"\"\"\n",
        "SELECT speciality, COUNT(*) AS count\n",
        "FROM Doctor\n",
        "GROUP BY speciality;\n",
        "\"\"\"\n",
        "\n",
        "df = pd.read_sql(query, conn)\n",
        "\n",
        "conn.close()\n",
        "\n",
        "df_sorted = df.sort_values(by='count', ascending=False)\n",
        "\n",
        "plt.figure(figsize=(12, 6))\n",
        "plt.bar(df_sorted['speciality'], df_sorted['count'], color='pink')\n",
        "plt.title('Количество врачей по специальностям')\n",
        "plt.xlabel('Специальность')\n",
        "plt.ylabel('Количество врачей')\n",
        "plt.xticks(rotation=45)\n",
        "plt.tight_layout()\n",
        "plt.grid(axis='y', linestyle='--', alpha=0.7)\n",
        "plt.show()"
      ]
    }
  ],
  "metadata": {
    "colab": {
      "provenance": []
    },
    "kernelspec": {
      "display_name": "Python 3",
      "language": "python",
      "name": "python3"
    },
    "language_info": {
      "codemirror_mode": {
        "name": "ipython",
        "version": 3
      },
      "file_extension": ".py",
      "mimetype": "text/x-python",
      "name": "python",
      "nbconvert_exporter": "python",
      "pygments_lexer": "ipython3",
      "version": "3.12.0"
    }
  },
  "nbformat": 4,
  "nbformat_minor": 5
}
